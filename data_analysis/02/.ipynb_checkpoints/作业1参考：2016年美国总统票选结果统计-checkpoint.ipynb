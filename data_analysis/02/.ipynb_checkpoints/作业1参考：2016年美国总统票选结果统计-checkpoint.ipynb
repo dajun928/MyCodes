{
 "cells": [
  {
   "cell_type": "code",
   "execution_count": 10,
   "metadata": {
    "collapsed": true
   },
   "outputs": [],
   "source": [
    "import numpy as np"
   ]
  },
  {
   "cell_type": "code",
   "execution_count": 11,
   "metadata": {
    "collapsed": true
   },
   "outputs": [],
   "source": [
    "filename = \"presidential_polls.csv\"\n",
    "use_cols_name = [\"adjpoll_clinton\", \"adjpoll_trump\", \"adjpoll_johnson\"]"
   ]
  },
  {
   "cell_type": "code",
   "execution_count": 12,
   "metadata": {},
   "outputs": [
    {
     "name": "stdout",
     "output_type": "stream",
     "text": [
      "['cycle', 'branch', 'type', 'matchup', 'forecastdate', 'state', 'startdate', 'enddate', 'pollster', 'grade', 'samplesize', 'population', 'poll_wt', 'rawpoll_clinton', 'rawpoll_trump', 'rawpoll_johnson', 'rawpoll_mcmullin', 'adjpoll_clinton', 'adjpoll_trump', 'adjpoll_johnson', 'adjpoll_mcmullin', 'multiversions', 'url', 'poll_id', 'question_id', 'createddate', 'timestamp']\n"
     ]
    }
   ],
   "source": [
    "# 将文件的第一行内容处理为列表\n",
    "all_cols_name = open(filename, \"r\").readline()[:-1].split(\",\")\n",
    "print(all_cols_name)"
   ]
  },
  {
   "cell_type": "code",
   "execution_count": 13,
   "metadata": {},
   "outputs": [
    {
     "name": "stdout",
     "output_type": "stream",
     "text": [
      "[17, 18, 19]\n"
     ]
    }
   ],
   "source": [
    "# 1. 获取指定列的索引列表\n",
    "use_cols_index = [all_cols_name.index(col) for col in use_cols_name]\n",
    "print(use_cols_index)"
   ]
  },
  {
   "cell_type": "code",
   "execution_count": 17,
   "metadata": {},
   "outputs": [
    {
     "name": "stdout",
     "output_type": "stream",
     "text": [
      "[['42.6414' '40.86509' '5.675099']\n",
      " ['43.29659' '44.72984' '3.401513']\n",
      " ['46.29779' '40.72604' '6.401513']\n",
      " ..., \n",
      " ['45.9713' '39.97518' '']\n",
      " ['45.2939' '46.66175' '1.596946']\n",
      " ['31.62721' '44.65947' '']]\n"
     ]
    }
   ],
   "source": [
    "# 2. 读取文件指定的列数据，并将数字部分索引出来\n",
    "arr = np.genfromtxt(filename, delimiter=\",\", dtype=str, usecols=use_cols_index)\n",
    "data_arr = arr[1:]\n",
    "print(data_arr)"
   ]
  },
  {
   "cell_type": "code",
   "execution_count": 20,
   "metadata": {},
   "outputs": [
    {
     "name": "stdout",
     "output_type": "stream",
     "text": [
      "[[ 42.6414    40.86509    5.675099]\n",
      " [ 43.29659   44.72984    3.401513]\n",
      " [ 46.29779   40.72604    6.401513]\n",
      " ..., \n",
      " [ 45.9713    39.97518    0.      ]\n",
      " [ 45.2939    46.66175    1.596946]\n",
      " [ 31.62721   44.65947    0.      ]]\n"
     ]
    }
   ],
   "source": [
    "# 3. 数据清洗：将空字符串替换为\"0\"，再将数据雷系修改为浮点型\n",
    "clean_data_arr = np.where(data_arr == \"\", \"0\", data_arr).astype(float)\n",
    "print(clean_data_arr)"
   ]
  },
  {
   "cell_type": "code",
   "execution_count": 31,
   "metadata": {},
   "outputs": [
    {
     "name": "stdout",
     "output_type": "stream",
     "text": [
      "票选统计结果：\n",
      "adjpoll_clinton : 结果为 440402.88\n",
      "adjpoll_trump : 结果为 430409.65\n",
      "adjpoll_johnson : 结果为 31131.26\n"
     ]
    }
   ],
   "source": [
    "# 4. 统计数据结果：\n",
    "print(\"票选统计结果：\")\n",
    "print(\"{} : 结果为 {:.2f}\".format(use_cols_name[0], np.sum(clean_data_arr[:, 0])))\n",
    "print(\"{} : 结果为 {:.2f}\".format(use_cols_name[1], np.sum(clean_data_arr[:, 1])))\n",
    "print(\"{} : 结果为 {:.2f}\".format(use_cols_name[2], np.sum(clean_data_arr[:, 2])))"
   ]
  },
  {
   "cell_type": "code",
   "execution_count": null,
   "metadata": {
    "collapsed": true
   },
   "outputs": [],
   "source": [
    "# 选民票-》总统候选人，最后决定两个总统候选人参与选举人投票\n",
    "# 选举人票-》 美国总统，538张选举人票，最先获取270张就是美国总统。"
   ]
  }
 ],
 "metadata": {
  "kernelspec": {
   "display_name": "Python 2",
   "language": "python",
   "name": "python2"
  },
  "language_info": {
   "codemirror_mode": {
    "name": "ipython",
    "version": 2
   },
   "file_extension": ".py",
   "mimetype": "text/x-python",
   "name": "python",
   "nbconvert_exporter": "python",
   "pygments_lexer": "ipython2",
   "version": "2.7.14"
  }
 },
 "nbformat": 4,
 "nbformat_minor": 2
}
