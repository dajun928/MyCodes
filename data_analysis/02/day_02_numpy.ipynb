{
 "cells": [
  {
   "cell_type": "code",
   "execution_count": 2,
   "metadata": {
    "collapsed": true
   },
   "outputs": [],
   "source": [
    "import numpy as np"
   ]
  },
  {
   "cell_type": "code",
   "execution_count": 2,
   "metadata": {},
   "outputs": [
    {
     "name": "stdout",
     "output_type": "stream",
     "text": [
      "1.6206438541412354 0.20034408569335938\n"
     ]
    }
   ],
   "source": [
    "import random\n",
    "import time\n",
    "import numpy as np\n",
    "a = []\n",
    "for i in range(100000000): \n",
    "    a.append(random.random())\n",
    "t1 = time.time()\n",
    "sum1=sum(a)\n",
    "t2=time.time()\n",
    "\n",
    "b=np.array(a)\n",
    "t4=time.time()\n",
    "sum3=np.sum(b)\n",
    "t5=time.time()\n",
    "print(t2-t1, t5-t4)"
   ]
  },
  {
   "cell_type": "code",
   "execution_count": 3,
   "metadata": {
    "collapsed": true
   },
   "outputs": [],
   "source": [
    "# 创建数组\n",
    "a1 = np.array([1,2,3,4])"
   ]
  },
  {
   "cell_type": "code",
   "execution_count": 4,
   "metadata": {},
   "outputs": [
    {
     "data": {
      "text/plain": [
       "numpy.ndarray"
      ]
     },
     "execution_count": 4,
     "metadata": {},
     "output_type": "execute_result"
    }
   ],
   "source": [
    "type(a1)"
   ]
  },
  {
   "cell_type": "code",
   "execution_count": 14,
   "metadata": {},
   "outputs": [],
   "source": [
    "a2 = np.array([[1,2,3],[4,5,6]], dtype=np.int32)"
   ]
  },
  {
   "cell_type": "code",
   "execution_count": 15,
   "metadata": {},
   "outputs": [
    {
     "data": {
      "text/plain": [
       "dtype('int32')"
      ]
     },
     "execution_count": 15,
     "metadata": {},
     "output_type": "execute_result"
    }
   ],
   "source": [
    "a2.dtype"
   ]
  },
  {
   "cell_type": "code",
   "execution_count": 8,
   "metadata": {},
   "outputs": [
    {
     "data": {
      "text/plain": [
       "(2, 3)"
      ]
     },
     "execution_count": 8,
     "metadata": {},
     "output_type": "execute_result"
    }
   ],
   "source": [
    "a2.shape"
   ]
  },
  {
   "cell_type": "code",
   "execution_count": 9,
   "metadata": {
    "collapsed": true
   },
   "outputs": [],
   "source": [
    "a3 = np.array([[[1,2,3],[4,5,6]], [[1,20,3],[4,5,6]]])"
   ]
  },
  {
   "cell_type": "code",
   "execution_count": 10,
   "metadata": {},
   "outputs": [
    {
     "data": {
      "text/plain": [
       "(2, 2, 3)"
      ]
     },
     "execution_count": 10,
     "metadata": {},
     "output_type": "execute_result"
    }
   ],
   "source": [
    "a3.shape"
   ]
  },
  {
   "cell_type": "code",
   "execution_count": 16,
   "metadata": {},
   "outputs": [
    {
     "data": {
      "text/plain": [
       "  C_CONTIGUOUS : True\n",
       "  F_CONTIGUOUS : False\n",
       "  OWNDATA : True\n",
       "  WRITEABLE : True\n",
       "  ALIGNED : True\n",
       "  UPDATEIFCOPY : False"
      ]
     },
     "execution_count": 16,
     "metadata": {},
     "output_type": "execute_result"
    }
   ],
   "source": [
    "a2.flags"
   ]
  },
  {
   "cell_type": "code",
   "execution_count": 17,
   "metadata": {},
   "outputs": [
    {
     "data": {
      "text/plain": [
       "array([[ 1.,  1.,  1.],\n",
       "       [ 1.,  1.,  1.]])"
      ]
     },
     "execution_count": 17,
     "metadata": {},
     "output_type": "execute_result"
    }
   ],
   "source": [
    "np.ones([2, 3])"
   ]
  },
  {
   "cell_type": "code",
   "execution_count": 18,
   "metadata": {},
   "outputs": [
    {
     "data": {
      "text/plain": [
       "array([[ 0.,  0.,  0.],\n",
       "       [ 0.,  0.,  0.]])"
      ]
     },
     "execution_count": 18,
     "metadata": {},
     "output_type": "execute_result"
    }
   ],
   "source": [
    "np.zeros([2, 3])"
   ]
  },
  {
   "cell_type": "code",
   "execution_count": 19,
   "metadata": {
    "collapsed": true
   },
   "outputs": [],
   "source": [
    "arr1 = np.array([[1,2,3,4], [5,6,7,8]])"
   ]
  },
  {
   "cell_type": "code",
   "execution_count": 20,
   "metadata": {
    "collapsed": true
   },
   "outputs": [],
   "source": [
    "arr2 = np.array(arr1)"
   ]
  },
  {
   "cell_type": "code",
   "execution_count": 21,
   "metadata": {
    "collapsed": true
   },
   "outputs": [],
   "source": [
    "arr3 = np.asarray(arr1)"
   ]
  },
  {
   "cell_type": "code",
   "execution_count": 22,
   "metadata": {},
   "outputs": [
    {
     "data": {
      "text/plain": [
       "(array([[1, 2, 3, 4],\n",
       "        [5, 6, 7, 8]]), array([[1, 2, 3, 4],\n",
       "        [5, 6, 7, 8]]))"
      ]
     },
     "execution_count": 22,
     "metadata": {},
     "output_type": "execute_result"
    }
   ],
   "source": [
    "arr2,arr3"
   ]
  },
  {
   "cell_type": "code",
   "execution_count": 23,
   "metadata": {
    "collapsed": true
   },
   "outputs": [],
   "source": [
    "arr1[0] = 1"
   ]
  },
  {
   "cell_type": "code",
   "execution_count": 24,
   "metadata": {},
   "outputs": [
    {
     "data": {
      "text/plain": [
       "array([[1, 1, 1, 1],\n",
       "       [5, 6, 7, 8]])"
      ]
     },
     "execution_count": 24,
     "metadata": {},
     "output_type": "execute_result"
    }
   ],
   "source": [
    "arr1"
   ]
  },
  {
   "cell_type": "code",
   "execution_count": 25,
   "metadata": {},
   "outputs": [
    {
     "data": {
      "text/plain": [
       "array([[1, 2, 3, 4],\n",
       "       [5, 6, 7, 8]])"
      ]
     },
     "execution_count": 25,
     "metadata": {},
     "output_type": "execute_result"
    }
   ],
   "source": [
    "arr2"
   ]
  },
  {
   "cell_type": "code",
   "execution_count": 26,
   "metadata": {},
   "outputs": [
    {
     "data": {
      "text/plain": [
       "array([[1, 1, 1, 1],\n",
       "       [5, 6, 7, 8]])"
      ]
     },
     "execution_count": 26,
     "metadata": {},
     "output_type": "execute_result"
    }
   ],
   "source": [
    "arr3"
   ]
  },
  {
   "cell_type": "code",
   "execution_count": 28,
   "metadata": {},
   "outputs": [
    {
     "data": {
      "text/plain": [
       "array([   1.  ,   25.75,   50.5 ,   75.25,  100.  ])"
      ]
     },
     "execution_count": 28,
     "metadata": {},
     "output_type": "execute_result"
    }
   ],
   "source": [
    "np.linspace(1, 100, 5)"
   ]
  },
  {
   "cell_type": "code",
   "execution_count": 29,
   "metadata": {},
   "outputs": [
    {
     "data": {
      "text/plain": [
       "array([ 0.54097986,  0.62676743,  0.75851632,  0.37584266,  0.54038718,\n",
       "        0.97896939,  0.45557418,  0.71477343,  0.24423639,  0.87661583])"
      ]
     },
     "execution_count": 29,
     "metadata": {},
     "output_type": "execute_result"
    }
   ],
   "source": [
    "np.random.rand(10)"
   ]
  },
  {
   "cell_type": "code",
   "execution_count": 30,
   "metadata": {},
   "outputs": [
    {
     "data": {
      "text/plain": [
       "57.37919556836807"
      ]
     },
     "execution_count": 30,
     "metadata": {},
     "output_type": "execute_result"
    }
   ],
   "source": [
    "np.random.uniform(0, 100)"
   ]
  },
  {
   "cell_type": "code",
   "execution_count": 32,
   "metadata": {},
   "outputs": [
    {
     "data": {
      "text/plain": [
       "50"
      ]
     },
     "execution_count": 32,
     "metadata": {},
     "output_type": "execute_result"
    }
   ],
   "source": [
    "np.random.randint(100)"
   ]
  },
  {
   "cell_type": "code",
   "execution_count": 33,
   "metadata": {},
   "outputs": [
    {
     "data": {
      "text/plain": [
       "array([[ 1.76899819,  1.75227671,  1.76595346,  1.73671895],\n",
       "       [ 1.7645325 ,  1.74781703,  1.76880733,  1.77378404],\n",
       "       [ 1.78177375,  1.76242628,  1.74544991,  1.76412167]])"
      ]
     },
     "execution_count": 33,
     "metadata": {},
     "output_type": "execute_result"
    }
   ],
   "source": [
    "np.random.normal(1.75, 0.01, (3,4))"
   ]
  },
  {
   "cell_type": "code",
   "execution_count": 69,
   "metadata": {
    "collapsed": true
   },
   "outputs": [],
   "source": [
    "# 生成500个公司，504天的股票涨跌幅数据\n",
    "stock_day_rise = np.random.normal(0, 1, (500, 504))"
   ]
  },
  {
   "cell_type": "code",
   "execution_count": 70,
   "metadata": {},
   "outputs": [
    {
     "data": {
      "text/plain": [
       "array([ 0.33675073,  0.49791785, -1.42625534,  1.72146349,  1.49564772,\n",
       "       -0.14395441, -0.53486077, -1.01683797, -0.26320741,  1.46946843,\n",
       "        0.49903835, -0.63412547, -1.36554951, -1.35537644, -0.91481991,\n",
       "       -0.09388883,  0.98279795,  0.17740103,  0.44633569,  0.95698892,\n",
       "        0.88184631,  0.5045085 , -0.96724467,  2.0791283 ,  1.43566484,\n",
       "       -0.27077951,  1.55810737, -0.8620433 , -0.7222599 , -0.23921774,\n",
       "       -0.99919498, -0.09751174, -0.33534076, -0.17717832, -0.19124501,\n",
       "       -0.54536609,  0.24991086,  1.87252792,  0.8569767 , -0.46727234,\n",
       "       -0.63388162,  0.00466305, -0.5742778 , -0.1238818 , -1.07203293,\n",
       "       -0.22308679, -0.40687096,  2.02552945, -1.09542092,  0.82655946,\n",
       "       -0.19354991,  0.80598152, -0.32356187,  0.31664829, -0.4866073 ,\n",
       "        0.34586269, -0.2434032 ,  0.02723507,  0.28730469,  0.2871953 ,\n",
       "       -1.24309232, -1.47717662, -0.4354775 , -0.68503694,  0.55805467,\n",
       "       -1.13119244,  0.23337761,  0.48688017,  1.71867471,  0.60966627,\n",
       "       -0.03082459, -2.32338899,  0.8972442 ,  1.33185408,  1.30518345,\n",
       "       -0.88127107, -0.24319622,  0.8012085 ,  0.7217137 , -0.95667553,\n",
       "        0.14032416, -0.13780079, -2.10487127, -0.8940218 , -0.04201526,\n",
       "       -1.29049383, -0.41475481, -0.29171492,  2.03585259, -0.87844913,\n",
       "        0.14331465, -1.13136375, -1.08563917,  1.37638686,  1.15884177,\n",
       "       -0.15225485, -1.76903724,  0.26493899,  0.52606993,  2.59437801])"
      ]
     },
     "execution_count": 70,
     "metadata": {},
     "output_type": "execute_result"
    }
   ],
   "source": [
    "stock_day_rise[0, :100]"
   ]
  },
  {
   "cell_type": "code",
   "execution_count": 61,
   "metadata": {},
   "outputs": [
    {
     "data": {
      "text/plain": [
       "array([[-0.2658,  1.7478,  1.6037, -1.333 ],\n",
       "       [ 0.8105,  0.9198, -0.32  ,  1.4928],\n",
       "       [ 0.8928,  0.7163, -0.2653,  2.15  ]])"
      ]
     },
     "execution_count": 61,
     "metadata": {},
     "output_type": "execute_result"
    }
   ],
   "source": [
    "# 获取签4个公司，前4天的交易日涨跌幅情况\n",
    "np.round(stock_day_rise[0:3, 0:4], 4)"
   ]
  },
  {
   "cell_type": "code",
   "execution_count": 46,
   "metadata": {},
   "outputs": [],
   "source": [
    "a = np.array([[[1,2,3], [4,5,6]], [[5,4,3],[1,2,3]]])"
   ]
  },
  {
   "cell_type": "code",
   "execution_count": 47,
   "metadata": {},
   "outputs": [
    {
     "data": {
      "text/plain": [
       "(2, 2, 3)"
      ]
     },
     "execution_count": 47,
     "metadata": {},
     "output_type": "execute_result"
    }
   ],
   "source": [
    "a.shape"
   ]
  },
  {
   "cell_type": "code",
   "execution_count": 51,
   "metadata": {},
   "outputs": [
    {
     "data": {
      "text/plain": [
       "(2, 3)"
      ]
     },
     "execution_count": 51,
     "metadata": {},
     "output_type": "execute_result"
    }
   ],
   "source": []
  },
  {
   "cell_type": "code",
   "execution_count": 52,
   "metadata": {},
   "outputs": [
    {
     "data": {
      "text/plain": [
       "(500, 504)"
      ]
     },
     "execution_count": 52,
     "metadata": {},
     "output_type": "execute_result"
    }
   ],
   "source": [
    "stock_day_rise.shape"
   ]
  },
  {
   "cell_type": "code",
   "execution_count": 64,
   "metadata": {},
   "outputs": [
    {
     "data": {
      "text/plain": [
       "array([[-0.26581563,  1.74783369,  1.60368852, -1.33301525,  0.36286917],\n",
       "       [ 0.81051601,  0.91977314, -0.31998908,  1.49283034, -2.31734299]])"
      ]
     },
     "execution_count": 64,
     "metadata": {},
     "output_type": "execute_result"
    }
   ],
   "source": [
    "stock_day_rise.reshape([504, 500]).astype(int)\n",
    "\n",
    "stock_day_rise[:2, :5]"
   ]
  },
  {
   "cell_type": "code",
   "execution_count": 63,
   "metadata": {},
   "outputs": [
    {
     "data": {
      "text/plain": [
       "array([[False,  True,  True, False, False],\n",
       "       [ True,  True, False,  True, False]], dtype=bool)"
      ]
     },
     "execution_count": 63,
     "metadata": {},
     "output_type": "execute_result"
    }
   ],
   "source": [
    "# 获取前两个股票， 涨幅大于0.5的数据拿出来\n",
    "stock_day_rise[:2, :5] > 0.5"
   ]
  },
  {
   "cell_type": "code",
   "execution_count": 83,
   "metadata": {},
   "outputs": [],
   "source": [
    "# 涨幅大于0.5的标记为1\n",
    "tmp = stock_day_rise[:2, :5].copy()\n",
    "\n",
    "# tmp[stock_day_rise[:2, :5] > 0.5] = 1"
   ]
  },
  {
   "cell_type": "code",
   "execution_count": 75,
   "metadata": {},
   "outputs": [
    {
     "data": {
      "text/plain": [
       "array([[ 0.33675073,  0.49791785, -1.42625534,  1.72146349,  1.49564772],\n",
       "       [-0.43742886, -0.42929861, -0.13558434,  1.37309381,  1.1492558 ]])"
      ]
     },
     "execution_count": 75,
     "metadata": {},
     "output_type": "execute_result"
    }
   ],
   "source": [
    "tmp"
   ]
  },
  {
   "cell_type": "code",
   "execution_count": 73,
   "metadata": {},
   "outputs": [
    {
     "data": {
      "text/plain": [
       "array([[ 0.33675073,  0.49791785, -1.42625534, ...,  0.65381901,\n",
       "         0.92226226,  1.97454653],\n",
       "       [-0.43742886, -0.42929861, -0.13558434, ...,  0.93480778,\n",
       "        -0.74346096,  0.16359958],\n",
       "       [-0.46777922, -0.22858915,  0.2208206 , ..., -0.36461786,\n",
       "         0.24108975, -0.49465474],\n",
       "       ..., \n",
       "       [ 1.04127413,  1.13312112,  0.68538774, ...,  0.0303607 ,\n",
       "        -0.62219197,  0.29211796],\n",
       "       [ 0.06378053, -0.08087569, -0.68914384, ..., -1.50296259,\n",
       "         0.64908626,  0.45566639],\n",
       "       [ 0.88713104, -1.63377401,  0.38408291, ..., -0.00512355,\n",
       "        -0.19020956, -0.54402266]])"
      ]
     },
     "execution_count": 73,
     "metadata": {},
     "output_type": "execute_result"
    }
   ],
   "source": [
    "stock_day_rise"
   ]
  },
  {
   "cell_type": "code",
   "execution_count": 76,
   "metadata": {},
   "outputs": [
    {
     "data": {
      "text/plain": [
       "False"
      ]
     },
     "execution_count": 76,
     "metadata": {},
     "output_type": "execute_result"
    }
   ],
   "source": [
    "# 判断这两个公司的所有涨幅是否大于0\n",
    "np.all(tmp > 0)"
   ]
  },
  {
   "cell_type": "code",
   "execution_count": 77,
   "metadata": {
    "collapsed": true
   },
   "outputs": [],
   "source": [
    "narr = np.array([[1,2,3,1,1], [2,3,4,3,2]])"
   ]
  },
  {
   "cell_type": "code",
   "execution_count": 78,
   "metadata": {},
   "outputs": [
    {
     "data": {
      "text/plain": [
       "array([1, 2, 3, 4])"
      ]
     },
     "execution_count": 78,
     "metadata": {},
     "output_type": "execute_result"
    }
   ],
   "source": [
    "np.unique(narr)"
   ]
  },
  {
   "cell_type": "code",
   "execution_count": 79,
   "metadata": {},
   "outputs": [
    {
     "data": {
      "text/plain": [
       "array([[0, 0, 0, 1, 1],\n",
       "       [0, 0, 0, 1, 1]])"
      ]
     },
     "execution_count": 79,
     "metadata": {},
     "output_type": "execute_result"
    }
   ],
   "source": [
    "# np.where 涨幅大于0.5的标记为1,否则为0\n",
    "np.where(tmp > 0.5, 1, 0)"
   ]
  },
  {
   "cell_type": "code",
   "execution_count": 84,
   "metadata": {},
   "outputs": [
    {
     "data": {
      "text/plain": [
       "array([[0, 0, 0, 0, 0],\n",
       "       [0, 0, 0, 0, 0]])"
      ]
     },
     "execution_count": 84,
     "metadata": {},
     "output_type": "execute_result"
    }
   ],
   "source": [
    "np.where(np.logical_and(tmp > 0.5, tmp < 1), 1, 0)"
   ]
  },
  {
   "cell_type": "code",
   "execution_count": 91,
   "metadata": {},
   "outputs": [
    {
     "data": {
      "text/plain": [
       "array([[ 0.33675073,  0.49791785, -1.42625534,  1.72146349],\n",
       "       [-0.43742886, -0.42929861, -0.13558434,  1.37309381],\n",
       "       [-0.46777922, -0.22858915,  0.2208206 , -0.05264679],\n",
       "       [-0.21744261, -0.54448154, -0.90977201,  1.41247757]])"
      ]
     },
     "execution_count": 91,
     "metadata": {},
     "output_type": "execute_result"
    }
   ],
   "source": [
    "# 分析前四个股票，前4天的涨跌幅最大值，最小值等等\n",
    "temp = stock_day_rise[:4, :4].copy()\n",
    "temp"
   ]
  },
  {
   "cell_type": "code",
   "execution_count": 92,
   "metadata": {},
   "outputs": [
    {
     "name": "stdout",
     "output_type": "stream",
     "text": [
      "前四个股票的最大涨幅[ 1.72146349  1.37309381  0.2208206   1.41247757]\n"
     ]
    }
   ],
   "source": [
    "# axis指定的是轴，axis=0按列求最大值 , axis=1按行求最大值\n",
    "print(\"前四个股票的最大涨幅{}\".format(np.max(temp, axis=1)))"
   ]
  },
  {
   "cell_type": "code",
   "execution_count": 90,
   "metadata": {},
   "outputs": [
    {
     "name": "stdout",
     "output_type": "stream",
     "text": [
      "最大跌幅[-1.42625534 -0.43742886 -0.46777922 -0.90977201]\n",
      "振幅幅度[ 1.12247591  0.74917308  0.25142416  0.88737265]\n",
      "平均涨跌幅[ 0.28246918  0.0926955  -0.13204864 -0.06480465]\n"
     ]
    }
   ],
   "source": [
    "# 获取最小涨幅，平均值，方差 ，针对股票来说\n",
    "print(\"最大跌幅{}\".format(np.min(temp, axis=1)))\n",
    "print(\"振幅幅度{}\".format(np.std(temp, axis=1)))\n",
    "print(\"平均涨跌幅{}\".format(np.mean(temp, axis=1)))"
   ]
  },
  {
   "cell_type": "code",
   "execution_count": 93,
   "metadata": {},
   "outputs": [
    {
     "name": "stdout",
     "output_type": "stream",
     "text": [
      "最大涨幅的天数[3 3 2 3]\n"
     ]
    }
   ],
   "source": [
    "# 统计出哪一只股票在某个交易日的涨幅最大, axis=1,返回某一行最大值的下标\n",
    "print(\"最大涨幅的天数{}\".format(np.argmax(temp, axis=1)))"
   ]
  },
  {
   "cell_type": "code",
   "execution_count": 107,
   "metadata": {},
   "outputs": [],
   "source": [
    "# 数组的运算， 数组与数\n",
    "# 底层运算，避免一些for循环操作\n",
    "a = np.array([[1,2,3], [4,5,6]])"
   ]
  },
  {
   "cell_type": "code",
   "execution_count": 108,
   "metadata": {},
   "outputs": [
    {
     "data": {
      "text/plain": [
       "array([[2, 3, 4],\n",
       "       [5, 6, 7]])"
      ]
     },
     "execution_count": 108,
     "metadata": {},
     "output_type": "execute_result"
    }
   ],
   "source": [
    "a + 1"
   ]
  },
  {
   "cell_type": "code",
   "execution_count": 109,
   "metadata": {},
   "outputs": [
    {
     "data": {
      "text/plain": [
       "array([[ 2,  4,  6],\n",
       "       [ 8, 10, 12]])"
      ]
     },
     "execution_count": 109,
     "metadata": {},
     "output_type": "execute_result"
    }
   ],
   "source": [
    "a * 2"
   ]
  },
  {
   "cell_type": "code",
   "execution_count": 110,
   "metadata": {},
   "outputs": [],
   "source": [
    "b = [1,2,3]"
   ]
  },
  {
   "cell_type": "code",
   "execution_count": 111,
   "metadata": {},
   "outputs": [
    {
     "data": {
      "text/plain": [
       "[1, 2, 3, 1, 2, 3, 1, 2, 3]"
      ]
     },
     "execution_count": 111,
     "metadata": {},
     "output_type": "execute_result"
    }
   ],
   "source": [
    "b * 3"
   ]
  },
  {
   "cell_type": "code",
   "execution_count": 112,
   "metadata": {
    "collapsed": true
   },
   "outputs": [],
   "source": [
    "c = np.array([[5,6,7], [9,10,11]])"
   ]
  },
  {
   "cell_type": "code",
   "execution_count": 113,
   "metadata": {},
   "outputs": [
    {
     "data": {
      "text/plain": [
       "array([[ 6,  8, 10],\n",
       "       [13, 15, 17]])"
      ]
     },
     "execution_count": 113,
     "metadata": {},
     "output_type": "execute_result"
    }
   ],
   "source": [
    "a + c"
   ]
  },
  {
   "cell_type": "code",
   "execution_count": 114,
   "metadata": {},
   "outputs": [
    {
     "data": {
      "text/plain": [
       "array([[ 5, 12, 21],\n",
       "       [36, 50, 66]])"
      ]
     },
     "execution_count": 114,
     "metadata": {},
     "output_type": "execute_result"
    }
   ],
   "source": [
    "a * c"
   ]
  },
  {
   "cell_type": "code",
   "execution_count": 115,
   "metadata": {
    "collapsed": true
   },
   "outputs": [],
   "source": [
    "# 矩阵的相乘\n",
    "a = np.array([[1,2,3], [4,5,6]])\n",
    "b = np.array([[2], [2], [2]])"
   ]
  },
  {
   "cell_type": "code",
   "execution_count": 117,
   "metadata": {},
   "outputs": [
    {
     "data": {
      "text/plain": [
       "array([[12],\n",
       "       [30]])"
      ]
     },
     "execution_count": 117,
     "metadata": {},
     "output_type": "execute_result"
    }
   ],
   "source": [
    "# 使用matmul的函数\n",
    "np.matmul(a, b)"
   ]
  },
  {
   "cell_type": "code",
   "execution_count": 118,
   "metadata": {
    "collapsed": true
   },
   "outputs": [],
   "source": [
    "a = np.array([[1,2,3], [4,5,6]])\n",
    "b = np.array([[7,8,9], [10,11,12]])"
   ]
  },
  {
   "cell_type": "code",
   "execution_count": 119,
   "metadata": {
    "collapsed": true
   },
   "outputs": [],
   "source": [
    "# numpy读取数据\n",
    "data = np.genfromtxt(\"./data/numpy_test/test.csv\", delimiter=',')"
   ]
  },
  {
   "cell_type": "code",
   "execution_count": 120,
   "metadata": {},
   "outputs": [
    {
     "data": {
      "text/plain": [
       "array([[   nan,    nan,    nan,    nan],\n",
       "       [   1. ,  123. ,    1.4,   23. ],\n",
       "       [   2. ,  110. ,    nan,   18. ],\n",
       "       [   3. ,    nan,    2.1,   19. ]])"
      ]
     },
     "execution_count": 120,
     "metadata": {},
     "output_type": "execute_result"
    }
   ],
   "source": [
    "data"
   ]
  },
  {
   "cell_type": "code",
   "execution_count": 121,
   "metadata": {},
   "outputs": [
    {
     "data": {
      "text/plain": [
       "float"
      ]
     },
     "execution_count": 121,
     "metadata": {},
     "output_type": "execute_result"
    }
   ],
   "source": [
    "type(np.nan)"
   ]
  },
  {
   "cell_type": "code",
   "execution_count": null,
   "metadata": {
    "collapsed": true
   },
   "outputs": [],
   "source": [
    "# numpy当中nan是一个float类型\n",
    "\n",
    "# 处理nan"
   ]
  }
 ],
 "metadata": {
  "kernelspec": {
   "display_name": "Python 2",
   "language": "python",
   "name": "python2"
  },
  "language_info": {
   "codemirror_mode": {
    "name": "ipython",
    "version": 2
   },
   "file_extension": ".py",
   "mimetype": "text/x-python",
   "name": "python",
   "nbconvert_exporter": "python",
   "pygments_lexer": "ipython2",
   "version": "2.7.14"
  }
 },
 "nbformat": 4,
 "nbformat_minor": 2
}
